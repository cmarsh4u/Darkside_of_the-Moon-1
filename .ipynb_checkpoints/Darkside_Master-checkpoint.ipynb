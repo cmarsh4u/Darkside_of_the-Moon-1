{
 "cells": [
  {
   "cell_type": "code",
   "execution_count": 1,
   "metadata": {},
   "outputs": [],
   "source": [
    "%matplotlib notebook"
   ]
  },
  {
   "cell_type": "code",
   "execution_count": 2,
   "metadata": {},
   "outputs": [],
   "source": [
    "import numpy as np\n",
    "import pandas as pd\n",
    "import csv\n",
    "import json\n",
    "import requests"
   ]
  },
  {
   "cell_type": "code",
   "execution_count": 3,
   "metadata": {},
   "outputs": [
    {
     "data": {
      "text/plain": [
       "{'error': False,\n",
       " 'apiversion': '2.2.1',\n",
       " 'year': 2016,\n",
       " 'month': 1,\n",
       " 'day': 1,\n",
       " 'numphases': 50,\n",
       " 'datechanged': False,\n",
       " 'phasedata': [{'phase': 'Last Quarter',\n",
       "   'date': '2016 Jan 02',\n",
       "   'time': '05:30'},\n",
       "  {'phase': 'New Moon', 'date': '2016 Jan 10', 'time': '01:30'},\n",
       "  {'phase': 'First Quarter', 'date': '2016 Jan 16', 'time': '23:26'},\n",
       "  {'phase': 'Full Moon', 'date': '2016 Jan 24', 'time': '01:46'},\n",
       "  {'phase': 'Last Quarter', 'date': '2016 Feb 01', 'time': '03:28'},\n",
       "  {'phase': 'New Moon', 'date': '2016 Feb 08', 'time': '14:39'},\n",
       "  {'phase': 'First Quarter', 'date': '2016 Feb 15', 'time': '07:46'},\n",
       "  {'phase': 'Full Moon', 'date': '2016 Feb 22', 'time': '18:20'},\n",
       "  {'phase': 'Last Quarter', 'date': '2016 Mar 01', 'time': '23:11'},\n",
       "  {'phase': 'New Moon', 'date': '2016 Mar 09', 'time': '01:54'},\n",
       "  {'phase': 'First Quarter', 'date': '2016 Mar 15', 'time': '17:03'},\n",
       "  {'phase': 'Full Moon', 'date': '2016 Mar 23', 'time': '12:01'},\n",
       "  {'phase': 'Last Quarter', 'date': '2016 Mar 31', 'time': '15:17'},\n",
       "  {'phase': 'New Moon', 'date': '2016 Apr 07', 'time': '11:24'},\n",
       "  {'phase': 'First Quarter', 'date': '2016 Apr 14', 'time': '03:59'},\n",
       "  {'phase': 'Full Moon', 'date': '2016 Apr 22', 'time': '05:24'},\n",
       "  {'phase': 'Last Quarter', 'date': '2016 Apr 30', 'time': '03:29'},\n",
       "  {'phase': 'New Moon', 'date': '2016 May 06', 'time': '19:29'},\n",
       "  {'phase': 'First Quarter', 'date': '2016 May 13', 'time': '17:02'},\n",
       "  {'phase': 'Full Moon', 'date': '2016 May 21', 'time': '21:14'},\n",
       "  {'phase': 'Last Quarter', 'date': '2016 May 29', 'time': '12:12'},\n",
       "  {'phase': 'New Moon', 'date': '2016 Jun 05', 'time': '03:00'},\n",
       "  {'phase': 'First Quarter', 'date': '2016 Jun 12', 'time': '08:10'},\n",
       "  {'phase': 'Full Moon', 'date': '2016 Jun 20', 'time': '11:02'},\n",
       "  {'phase': 'Last Quarter', 'date': '2016 Jun 27', 'time': '18:19'},\n",
       "  {'phase': 'New Moon', 'date': '2016 Jul 04', 'time': '11:01'},\n",
       "  {'phase': 'First Quarter', 'date': '2016 Jul 12', 'time': '00:52'},\n",
       "  {'phase': 'Full Moon', 'date': '2016 Jul 19', 'time': '22:56'},\n",
       "  {'phase': 'Last Quarter', 'date': '2016 Jul 26', 'time': '23:00'},\n",
       "  {'phase': 'New Moon', 'date': '2016 Aug 02', 'time': '20:44'},\n",
       "  {'phase': 'First Quarter', 'date': '2016 Aug 10', 'time': '18:21'},\n",
       "  {'phase': 'Full Moon', 'date': '2016 Aug 18', 'time': '09:26'},\n",
       "  {'phase': 'Last Quarter', 'date': '2016 Aug 25', 'time': '03:41'},\n",
       "  {'phase': 'New Moon', 'date': '2016 Sep 01', 'time': '09:03'},\n",
       "  {'phase': 'First Quarter', 'date': '2016 Sep 09', 'time': '11:49'},\n",
       "  {'phase': 'Full Moon', 'date': '2016 Sep 16', 'time': '19:05'},\n",
       "  {'phase': 'Last Quarter', 'date': '2016 Sep 23', 'time': '09:56'},\n",
       "  {'phase': 'New Moon', 'date': '2016 Oct 01', 'time': '00:11'},\n",
       "  {'phase': 'First Quarter', 'date': '2016 Oct 09', 'time': '04:33'},\n",
       "  {'phase': 'Full Moon', 'date': '2016 Oct 16', 'time': '04:23'},\n",
       "  {'phase': 'Last Quarter', 'date': '2016 Oct 22', 'time': '19:14'},\n",
       "  {'phase': 'New Moon', 'date': '2016 Oct 30', 'time': '17:38'},\n",
       "  {'phase': 'First Quarter', 'date': '2016 Nov 07', 'time': '19:51'},\n",
       "  {'phase': 'Full Moon', 'date': '2016 Nov 14', 'time': '13:52'},\n",
       "  {'phase': 'Last Quarter', 'date': '2016 Nov 21', 'time': '08:33'},\n",
       "  {'phase': 'New Moon', 'date': '2016 Nov 29', 'time': '12:18'},\n",
       "  {'phase': 'First Quarter', 'date': '2016 Dec 07', 'time': '09:03'},\n",
       "  {'phase': 'Full Moon', 'date': '2016 Dec 14', 'time': '00:05'},\n",
       "  {'phase': 'Last Quarter', 'date': '2016 Dec 21', 'time': '01:56'},\n",
       "  {'phase': 'New Moon', 'date': '2016 Dec 29', 'time': '06:53'}]}"
      ]
     },
     "execution_count": 3,
     "metadata": {},
     "output_type": "execute_result"
    }
   ],
   "source": [
    "# 2016 Data\n",
    "city = \"New York City, NY\"\n",
    "year = 2016\n",
    "url = f\"https://api.usno.navy.mil/moon/phase?year={year}&loc={city}\"\n",
    "response = requests.get(url).json()\n",
    "response"
   ]
  },
  {
   "cell_type": "code",
   "execution_count": 4,
   "metadata": {},
   "outputs": [
    {
     "ename": "NameError",
     "evalue": "name 'date_list' is not defined",
     "output_type": "error",
     "traceback": [
      "\u001b[0;31m---------------------------------------------------------------------------\u001b[0m",
      "\u001b[0;31mNameError\u001b[0m                                 Traceback (most recent call last)",
      "\u001b[0;32m<ipython-input-4-ebbec31dc4fb>\u001b[0m in \u001b[0;36m<module>\u001b[0;34m\u001b[0m\n\u001b[1;32m      9\u001b[0m     \u001b[0mphase_2016\u001b[0m\u001b[0;34m.\u001b[0m\u001b[0mappend\u001b[0m\u001b[0;34m(\u001b[0m\u001b[0mentry\u001b[0m\u001b[0;34m[\u001b[0m\u001b[0;34m'phase'\u001b[0m\u001b[0;34m]\u001b[0m\u001b[0;34m)\u001b[0m\u001b[0;34m\u001b[0m\u001b[0;34m\u001b[0m\u001b[0m\n\u001b[1;32m     10\u001b[0m \u001b[0;34m\u001b[0m\u001b[0m\n\u001b[0;32m---> 11\u001b[0;31m moon_2016 = pd.DataFrame({\"Date\": date_list,\n\u001b[0m\u001b[1;32m     12\u001b[0m                          \"Phase\": phase_list})\n\u001b[1;32m     13\u001b[0m \u001b[0mmoon_2016\u001b[0m\u001b[0;34m.\u001b[0m\u001b[0mhead\u001b[0m\u001b[0;34m(\u001b[0m\u001b[0;34m)\u001b[0m\u001b[0;34m\u001b[0m\u001b[0;34m\u001b[0m\u001b[0m\n",
      "\u001b[0;31mNameError\u001b[0m: name 'date_list' is not defined"
     ]
    }
   ],
   "source": [
    "# Create lists and then the dataframe\n",
    "date_2016 = []\n",
    "phase_2016 = []\n",
    "for entry in response['phasedata']:\n",
    "    # Date\n",
    "    date_2016.append(entry['date'])\n",
    " \n",
    "    # Phase\n",
    "    phase_2016.append(entry['phase'])\n",
    "    \n",
    "moon_2016 = pd.DataFrame({\"Date\": date_2016,\n",
    "                         \"Phase\": phase_2016})\n",
    "moon_2016.head()"
   ]
  },
  {
   "cell_type": "code",
   "execution_count": null,
   "metadata": {},
   "outputs": [],
   "source": [
    "# 2017 Data\n",
    "city = \"New York City, NY\"\n",
    "year = 2017\n",
    "url = f\"https://api.usno.navy.mil/moon/phase?year={year}&loc={city}\"\n",
    "response = requests.get(url).json()\n",
    "response"
   ]
  },
  {
   "cell_type": "code",
   "execution_count": null,
   "metadata": {},
   "outputs": [],
   "source": [
    "# Create lists and then the dataframe\n",
    "date_2017 = []\n",
    "phase_2017 = []\n",
    "for entry in response['phasedata']:\n",
    "    # Date\n",
    "    date_2017.append(entry['date'])\n",
    " \n",
    "    # Phase\n",
    "    phase_2017.append(entry['phase'])\n",
    "    \n",
    "moon_2017 = pd.DataFrame({\"Date\": date_2017,\n",
    "                         \"Phase\": phase_2017})\n",
    "moon_2017.head()"
   ]
  },
  {
   "cell_type": "code",
   "execution_count": null,
   "metadata": {},
   "outputs": [],
   "source": [
    "# 2018 Data\n",
    "city = \"New York City, NY\"\n",
    "year = 2018\n",
    "url = f\"https://api.usno.navy.mil/moon/phase?year={year}&loc={city}\"\n",
    "response = requests.get(url).json()\n",
    "response"
   ]
  },
  {
   "cell_type": "code",
   "execution_count": null,
   "metadata": {},
   "outputs": [],
   "source": [
    "# Create lists and then the dataframe\n",
    "date_2018 = []\n",
    "phase_2018 = []\n",
    "for entry in response['phasedata']:\n",
    "    # Date\n",
    "    date_2018.append(entry['date'])\n",
    " \n",
    "    # Phase\n",
    "    phase_2018.append(entry['phase'])\n",
    "    \n",
    "moon_2018 = pd.DataFrame({\"Date\": date_2018,\n",
    "                         \"Phase\": phase_2018})\n",
    "moon_2018.head()"
   ]
  },
  {
   "cell_type": "code",
   "execution_count": null,
   "metadata": {},
   "outputs": [],
   "source": []
  }
 ],
 "metadata": {
  "kernelspec": {
   "display_name": "Python 3",
   "language": "python",
   "name": "python3"
  },
  "language_info": {
   "codemirror_mode": {
    "name": "ipython",
    "version": 3
   },
   "file_extension": ".py",
   "mimetype": "text/x-python",
   "name": "python",
   "nbconvert_exporter": "python",
   "pygments_lexer": "ipython3",
   "version": "3.7.3"
  }
 },
 "nbformat": 4,
 "nbformat_minor": 2
}
